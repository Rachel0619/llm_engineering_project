{
 "cells": [
  {
   "cell_type": "markdown",
   "id": "fe12c203-e6a6-452c-a655-afb8a03a4ff5",
   "metadata": {},
   "source": [
    "# End of week 1 exercise\n",
    "\n",
    "To demonstrate your familiarity with OpenAI API, and also Ollama, build a tool that takes a technical question,  \n",
    "and responds with an explanation. This is a tool that you will be able to use yourself during the course!"
   ]
  },
  {
   "cell_type": "code",
   "execution_count": 19,
   "id": "c1070317-3ed9-4659-abe3-828943230e03",
   "metadata": {},
   "outputs": [],
   "source": [
    "# imports\n",
    "\n",
    "import os\n",
    "import requests\n",
    "import json\n",
    "from typing import List\n",
    "from dotenv import load_dotenv\n",
    "from bs4 import BeautifulSoup\n",
    "from IPython.display import Markdown, display, update_display\n",
    "from openai import OpenAI\n",
    "import ollama"
   ]
  },
  {
   "cell_type": "code",
   "execution_count": 4,
   "id": "4a456906-915a-4bfd-bb9d-57e505c5093f",
   "metadata": {
    "editable": true,
    "slideshow": {
     "slide_type": ""
    },
    "tags": []
   },
   "outputs": [],
   "source": [
    "# constants\n",
    "\n",
    "MODEL_GPT = 'gpt-4o-mini'\n",
    "MODEL_LLAMA = 'llama3.2'"
   ]
  },
  {
   "cell_type": "code",
   "execution_count": 5,
   "id": "a8d7923c-5f28-4c30-8556-342d7c8497c1",
   "metadata": {},
   "outputs": [
    {
     "name": "stdout",
     "output_type": "stream",
     "text": [
      "API key looks good so far\n"
     ]
    }
   ],
   "source": [
    "# set up environment\n",
    "\n",
    "load_dotenv()\n",
    "api_key = os.getenv('OPENAI_API_KEY')\n",
    "\n",
    "if api_key and api_key.startswith('sk-proj-') and len(api_key)>10:\n",
    "    print(\"API key looks good so far\")\n",
    "else:\n",
    "    print(\"There might be a problem with your API key? Please visit the troubleshooting notebook!\")\n",
    "    \n",
    "openai = OpenAI()"
   ]
  },
  {
   "cell_type": "code",
   "execution_count": 6,
   "id": "3f0d0137-52b0-47a8-81a8-11a90a010798",
   "metadata": {},
   "outputs": [],
   "source": [
    "# here is the question; type over this to ask something new\n",
    "\n",
    "question = \"\"\"\n",
    "Please explain what this code does and why:\n",
    "        if soup.body:\n",
    "            for irrelevant in soup.body([\"script\", \"style\", \"img\", \"input\"]):\n",
    "                irrelevant.decompose()\n",
    "            self.text = soup.body.get_text(separator=\"\\n\", strip=True)\n",
    "        else:\n",
    "            self.text = \"\"\n",
    "\"\"\""
   ]
  },
  {
   "cell_type": "code",
   "execution_count": 20,
   "id": "60ce7000-a4a5-4cce-a261-e75ef45063b4",
   "metadata": {
    "editable": true,
    "slideshow": {
     "slide_type": ""
    },
    "tags": []
   },
   "outputs": [
    {
     "data": {
      "text/markdown": [
       "Sure! Let's break down the provided code line by line, so you can understand what it does and why each part is important.\n",
       "\n",
       "### Code Explanation\n",
       "\n",
       "```python\n",
       "if soup.body:\n",
       "```\n",
       "- **What it does:** This line checks if the `soup` object (which is likely a Beautiful Soup object from the `bs4` library used to parse HTML) has a `body` element.\n",
       "- **Why:** The `body` element contains the content of the HTML document. If there is no body (for example, if the document is empty or malformed), the code should handle it gracefully.\n",
       "\n",
       "```python\n",
       "    for irrelevant in soup.body([\"script\", \"style\", \"img\", \"input\"]):\n",
       "```\n",
       "- **What it does:** This line iterates over all elements within the `soup.body` that match the tags specified in the list: `script`, `style`, `img`, and `input`.\n",
       "- **Why:** These elements are typically not useful for text extraction, as `script` and `style` contain code and styles, `img` contains images, and `input` elements may not provide relevant textual information. By filtering them out, the goal is to clean the extracted text of unnecessary content.\n",
       "\n",
       "```python\n",
       "        irrelevant.decompose()\n",
       "```\n",
       "- **What it does:** For each `irrelevant` element found in the previous loop, this line calls the `decompose()` method on it.\n",
       "- **Why:** The `decompose()` method removes the element from the Beautiful Soup parse tree, which means it will no longer be considered in subsequent operations. This helps ensure that only relevant text is extracted later.\n",
       "\n",
       "```python\n",
       "    self.text = soup.body.get_text(separator=\"\\n\", strip=True)\n",
       "```\n",
       "- **What it does:** This line retrieves the text content from `soup.body` using the `get_text()` method.\n",
       "- **Why:** The `separator=\"\\n\"` argument indicates that line breaks should be inserted between different fragments of text to improve readability, and `strip=True` removes any leading or trailing whitespace. The resulting text is then assigned to an instance variable `self.text`, which presumably will be used later in the code or returned as part of a function.\n",
       "\n",
       "```python\n",
       "else:\n",
       "    self.text = \"\"\n",
       "```\n",
       "- **What it does:** If there is no `soup.body`, this line simply sets `self.text` to an empty string.\n",
       "- **Why:** This is a safeguard to ensure that `self.text` always has a value. If there’s no content to extract, it's better to have an empty string than not defining `self.text` at all.\n",
       "\n",
       "### Summary\n",
       "In summary, this code snippet is designed to extract and clean textual content from the body of an HTML document while removing irrelevant elements like scripts, images, and styles to ensure the output is useful. If the body doesn't exist, it safely sets the text to an empty string. This process is helpful in text processing applications where clean text data is needed from HTML sources."
      ],
      "text/plain": [
       "<IPython.core.display.Markdown object>"
      ]
     },
     "metadata": {},
     "output_type": "display_data"
    }
   ],
   "source": [
    "# Get gpt-4o-mini to answer, with streaming\n",
    "\n",
    "system_prompt = \"You are an assistant that is able to take a technical question and respond with an explanation. \\\n",
    "Respond in markdown. You tone should be caring and patient as if you are a tutor. \\\n",
    "If there are more than one line of code in the code snippet, explain the code line by line.\"\n",
    "\n",
    "def get_tech_question_prompt(question):\n",
    "    user_prompt = f\"You are trying to asnwer a technical question or explain some lines of code. \"\n",
    "    user_prompt += f\"Answer the question in markdown. Here is the question: \\n\"\n",
    "    user_prompt += question\n",
    "    user_prompt = user_prompt[:5_000] # Truncate if more than 5,000 characters\n",
    "    return user_prompt\n",
    "\n",
    "def stream_answer_question_gpt(question):\n",
    "    stream = openai.chat.completions.create(\n",
    "        model = MODEL_GPT,\n",
    "        messages = [\n",
    "            {\"role\": \"system\", \"content\": system_prompt},\n",
    "            {\"role\": \"user\", \"content\": get_tech_question_prompt(question)}\n",
    "        ],\n",
    "        stream=True\n",
    "    )\n",
    "    response = \"\"\n",
    "    display_handle = display(Markdown(\"\"), display_id=True)\n",
    "    for chunk in stream:\n",
    "        response += chunk.choices[0].delta.content or ''\n",
    "        response = response.replace(\"markdown\", \"\")\n",
    "        update_display(Markdown(response), display_id = display_handle.display_id)    \n",
    "\n",
    "stream_answer_question_gpt(question)"
   ]
  },
  {
   "cell_type": "code",
   "execution_count": null,
   "id": "adf3e4f6-d439-4e6d-81c7-bc0677bb9b5c",
   "metadata": {
    "editable": true,
    "slideshow": {
     "slide_type": ""
    },
    "tags": []
   },
   "outputs": [],
   "source": []
  },
  {
   "cell_type": "code",
   "execution_count": null,
   "id": "0f880180-29b5-445b-b4d2-154d73f98b99",
   "metadata": {},
   "outputs": [],
   "source": []
  },
  {
   "cell_type": "code",
   "execution_count": null,
   "id": "2ce91011-e4eb-415c-859e-6c7a636299b2",
   "metadata": {},
   "outputs": [],
   "source": []
  },
  {
   "cell_type": "code",
   "execution_count": null,
   "id": "319d7bb7-4de1-4ca2-9033-4caf3e221736",
   "metadata": {},
   "outputs": [],
   "source": []
  },
  {
   "cell_type": "code",
   "execution_count": null,
   "id": "8f7c8ea8-4082-4ad0-8751-3301adcf6538",
   "metadata": {
    "editable": true,
    "slideshow": {
     "slide_type": ""
    },
    "tags": []
   },
   "outputs": [],
   "source": [
    "# Get Llama 3.2 to answer\n",
    "\n",
    "ollama_via_openai = OpenAI(base_url='http://localhost:11434/v1', api_key='ollama')\n",
    "\n",
    "def stream_answer_question_llama(question):\n",
    "    stream = ollama_via_openai.chat.completions.create(\n",
    "    model=MODEL_LLAMA,\n",
    "    messages = [\n",
    "            {\"role\": \"system\", \"content\": system_prompt},\n",
    "            {\"role\": \"user\", \"content\": get_tech_question_prompt(question)}\n",
    "        ],\n",
    "        stream=True\n",
    "    stream = openai.chat.completions.create(\n",
    "        model = MODEL_GPT,\n",
    "        messages = [\n",
    "            {\"role\": \"system\", \"content\": system_prompt},\n",
    "            {\"role\": \"user\", \"content\": get_tech_question_prompt(question)}\n",
    "        ],\n",
    "        stream=True\n",
    "    )\n",
    "    response = \"\"\n",
    "    display_handle = display(Markdown(\"\"), display_id=True)\n",
    "    for chunk in stream:\n",
    "        response += chunk.choices[0].delta.content or ''\n",
    "        response = response.replace(\"markdown\", \"\")\n",
    "        update_display(Markdown(response), display_id = display_handle.display_id)    \n",
    "\n",
    "stream_answer_question(question)\n",
    "\n",
    "\n",
    "\n",
    "print(response.choices[0].message.content)"
   ]
  }
 ],
 "metadata": {
  "kernelspec": {
   "display_name": "Python 3 (ipykernel)",
   "language": "python",
   "name": "python3"
  },
  "language_info": {
   "codemirror_mode": {
    "name": "ipython",
    "version": 3
   },
   "file_extension": ".py",
   "mimetype": "text/x-python",
   "name": "python",
   "nbconvert_exporter": "python",
   "pygments_lexer": "ipython3",
   "version": "3.11.4"
  }
 },
 "nbformat": 4,
 "nbformat_minor": 5
}
