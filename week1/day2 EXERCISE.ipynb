{
 "cells": [
  {
   "cell_type": "markdown",
   "id": "d15d8294-3328-4e07-ad16-8a03e9bbfdb9",
   "metadata": {},
   "source": [
    "# Welcome to your first assignment!\n",
    "\n",
    "Instructions are below. Please give this a try, and look in the solutions folder if you get stuck (or feel free to ask me!)"
   ]
  },
  {
   "cell_type": "markdown",
   "id": "ada885d9-4d42-4d9b-97f0-74fbbbfe93a9",
   "metadata": {},
   "source": [
    "<table style=\"margin: 0; text-align: left;\">\n",
    "    <tr>\n",
    "        <td style=\"width: 150px; height: 150px; vertical-align: middle;\">\n",
    "            <img src=\"../resources.jpg\" width=\"150\" height=\"150\" style=\"display: block;\" />\n",
    "        </td>\n",
    "        <td>\n",
    "            <h2 style=\"color:#f71;\">Just before we get to the assignment --</h2>\n",
    "            <span style=\"color:#f71;\">I thought I'd take a second to point you at this page of useful resources for the course. This includes links to all the slides.<br/>\n",
    "            <a href=\"https://edwarddonner.com/2024/11/13/llm-engineering-resources/\">https://edwarddonner.com/2024/11/13/llm-engineering-resources/</a><br/>\n",
    "            Please keep this bookmarked, and I'll continue to add more useful links there over time.\n",
    "            </span>\n",
    "        </td>\n",
    "    </tr>\n",
    "</table>"
   ]
  },
  {
   "cell_type": "markdown",
   "id": "6e9fa1fc-eac5-4d1d-9be4-541b3f2b3458",
   "metadata": {},
   "source": [
    "# HOMEWORK EXERCISE ASSIGNMENT\n",
    "\n",
    "Upgrade the day 1 project to summarize a webpage to use an Open Source model running locally via Ollama rather than OpenAI\n",
    "\n",
    "You'll be able to use this technique for all subsequent projects if you'd prefer not to use paid APIs.\n",
    "\n",
    "**Benefits:**\n",
    "1. No API charges - open-source\n",
    "2. Data doesn't leave your box\n",
    "\n",
    "**Disadvantages:**\n",
    "1. Significantly less power than Frontier Model\n",
    "\n",
    "## Recap on installation of Ollama\n",
    "\n",
    "Simply visit [ollama.com](https://ollama.com) and install!\n",
    "\n",
    "Once complete, the ollama server should already be running locally.  \n",
    "If you visit:  \n",
    "[http://localhost:11434/](http://localhost:11434/)\n",
    "\n",
    "You should see the message `Ollama is running`.  \n",
    "\n",
    "If not, bring up a new Terminal (Mac) or Powershell (Windows) and enter `ollama serve`  \n",
    "And in another Terminal (Mac) or Powershell (Windows), enter `ollama pull llama3.2`  \n",
    "Then try [http://localhost:11434/](http://localhost:11434/) again.\n",
    "\n",
    "If Ollama is slow on your machine, try using `llama3.2:1b` as an alternative. Run `ollama pull llama3.2:1b` from a Terminal or Powershell, and change the code below from `MODEL = \"llama3.2\"` to `MODEL = \"llama3.2:1b\"`"
   ]
  },
  {
   "cell_type": "code",
   "execution_count": 1,
   "id": "4e2a9393-7767-488e-a8bf-27c12dca35bd",
   "metadata": {},
   "outputs": [],
   "source": [
    "# imports\n",
    "\n",
    "import requests\n",
    "from bs4 import BeautifulSoup\n",
    "from IPython.display import Markdown, display"
   ]
  },
  {
   "cell_type": "code",
   "execution_count": 2,
   "id": "29ddd15d-a3c5-4f4e-a678-873f56162724",
   "metadata": {},
   "outputs": [],
   "source": [
    "# Constants\n",
    "\n",
    "OLLAMA_API = \"http://localhost:11434/api/chat\"\n",
    "HEADERS = {\"Content-Type\": \"application/json\"}\n",
    "MODEL = \"llama3.2\""
   ]
  },
  {
   "cell_type": "code",
   "execution_count": 3,
   "id": "dac0a679-599c-441f-9bf2-ddc73d35b940",
   "metadata": {},
   "outputs": [],
   "source": [
    "# Create a messages list using the same format that we used for OpenAI\n",
    "\n",
    "messages = [\n",
    "    {\"role\": \"user\", \"content\": \"Describe some of the business applications of Generative AI\"}\n",
    "]"
   ]
  },
  {
   "cell_type": "code",
   "execution_count": 4,
   "id": "7bb9c624-14f0-4945-a719-8ddb64f66f47",
   "metadata": {},
   "outputs": [],
   "source": [
    "payload = {\n",
    "        \"model\": MODEL,\n",
    "        \"messages\": messages,\n",
    "        \"stream\": False\n",
    "    }"
   ]
  },
  {
   "cell_type": "code",
   "execution_count": 5,
   "id": "42b9f644-522d-4e05-a691-56e7658c0ea9",
   "metadata": {},
   "outputs": [
    {
     "name": "stdout",
     "output_type": "stream",
     "text": [
      "Generative AI has numerous business applications across various industries, including:\n",
      "\n",
      "1. **Content Creation**: Generative AI can be used to generate high-quality content such as articles, social media posts, product descriptions, and more. This can help businesses save time and resources while maintaining a consistent tone and style.\n",
      "2. **Marketing Automation**: Generative AI can be used to create personalized marketing campaigns, including emails, ads, and social media content, based on customer behavior and preferences.\n",
      "3. **Product Design**: Generative AI can be used to design new products, such as furniture, electronics, or fashion items, by generating 2D and 3D models, prototypes, and even production-ready designs.\n",
      "4. **Image and Video Generation**: Generative AI can be used to generate high-quality images and videos for various applications, including advertising, entertainment, and education.\n",
      "5. **Chatbots and Virtual Assistants**: Generative AI can be used to create more sophisticated chatbots and virtual assistants that can understand natural language and provide personalized support to customers.\n",
      "6. **Predictive Maintenance**: Generative AI can be used to analyze sensor data from machines and predict when maintenance is required, reducing downtime and increasing productivity.\n",
      "7. **Anomaly Detection**: Generative AI can be used to detect anomalies in data, such as financial transactions or network traffic, helping businesses identify potential security threats.\n",
      "8. **Personalized Recommendations**: Generative AI can be used to generate personalized recommendations for customers based on their behavior, preferences, and interests.\n",
      "9. **Automated Customer Service**: Generative AI can be used to automate customer service tasks, such as responding to basic queries, resolving common issues, and providing support.\n",
      "10. **Supply Chain Optimization**: Generative AI can be used to optimize supply chain operations by predicting demand, managing inventory, and identifying potential bottlenecks.\n",
      "11. **Financial Analysis**: Generative AI can be used to analyze financial data, identify trends, and make predictions about future market performance.\n",
      "12. **Creative Writing and Editing**: Generative AI can be used to generate high-quality content, such as blog posts, articles, and social media content, or even edit existing content to improve its quality.\n",
      "\n",
      "These are just a few examples of the many business applications of Generative AI. As the technology continues to evolve, we can expect to see even more innovative uses in various industries.\n"
     ]
    }
   ],
   "source": [
    "response = requests.post(OLLAMA_API, json=payload, headers=HEADERS)\n",
    "print(response.json()['message']['content'])"
   ]
  },
  {
   "cell_type": "markdown",
   "id": "6a021f13-d6a1-4b96-8e18-4eae49d876fe",
   "metadata": {},
   "source": [
    "# Introducing the ollama package\n",
    "\n",
    "And now we'll do the same thing, but using the elegant ollama python package instead of a direct HTTP call.\n",
    "\n",
    "Under the hood, it's making the same call as above to the ollama server running at localhost:11434"
   ]
  },
  {
   "cell_type": "code",
   "execution_count": 6,
   "id": "7745b9c4-57dc-4867-9180-61fa5db55eb8",
   "metadata": {
    "editable": true,
    "slideshow": {
     "slide_type": ""
    },
    "tags": []
   },
   "outputs": [
    {
     "name": "stdout",
     "output_type": "stream",
     "text": [
      "Generative AI has numerous business applications across various industries, including:\n",
      "\n",
      "1. **Content Creation**: AI-powered tools can generate high-quality content such as articles, social media posts, product descriptions, and more, saving time and resources for human writers.\n",
      "2. **Product Design and Development**: Generative AI can help design new products, generate 3D models, and optimize product designs for manufacturing and production.\n",
      "3. **Marketing and Advertising**: AI-powered tools can create personalized ads, product recommendations, and social media content that resonates with target audiences.\n",
      "4. **Customer Service**: Chatbots powered by Generative AI can provide 24/7 customer support, respond to common queries, and help resolve issues efficiently.\n",
      "5. **Data Analysis and Insights**: Generative AI can analyze large datasets, identify patterns, and generate reports, providing valuable insights for business decision-making.\n",
      "6. **Cybersecurity**: AI-powered tools can detect and prevent cyber threats, generate threat intelligence reports, and predict potential security breaches.\n",
      "7. **Supply Chain Optimization**: Generative AI can optimize supply chain management by predicting demand, identifying bottlenecks, and suggesting inventory management strategies.\n",
      "8. **Financial Analysis and Modeling**: AI-powered tools can analyze financial data, forecast revenue, and generate investment recommendations for businesses.\n",
      "9. **Personalized Recommendations**: Generative AI can create personalized product recommendations, tailored to individual customers' preferences and behavior.\n",
      "10. **Language Translation**: AI-powered translation tools can translate text and speech in real-time, facilitating international business communication.\n",
      "\n",
      "Some specific examples of Generative AI applications include:\n",
      "\n",
      "* **Google's LaMDA**: A conversational AI tool that generates human-like responses to customer inquiries.\n",
      "* **Microsoft's Azure Cognitive Services**: A suite of AI-powered tools for natural language processing, computer vision, and more.\n",
      "* **Amazon's DeepLens**: An AI-powered camera that can recognize faces, detect objects, and generate video recommendations.\n",
      "\n",
      "These applications demonstrate the potential of Generative AI to transform businesses across various industries, from content creation to cybersecurity, and everything in between.\n"
     ]
    }
   ],
   "source": [
    "import ollama\n",
    "\n",
    "response = ollama.chat(model=MODEL, messages=messages)\n",
    "print(response['message']['content'])"
   ]
  },
  {
   "cell_type": "markdown",
   "id": "a4704e10-f5fb-4c15-a935-f046c06fb13d",
   "metadata": {},
   "source": [
    "## Alternative approach - using OpenAI python library to connect to Ollama"
   ]
  },
  {
   "cell_type": "code",
   "execution_count": 7,
   "id": "23057e00-b6fc-4678-93a9-6b31cb704bff",
   "metadata": {},
   "outputs": [
    {
     "name": "stdout",
     "output_type": "stream",
     "text": [
      "Generative AI refers to artificial intelligence technologies that can generate new, original content based on input or patterns. Some business applications of generative AI include:\n",
      "\n",
      "1. **Content creation**: Generative AI-powered tools can create high-quality, engaging content such as articles, social media posts, and even entire books. This technology can help businesses save time, reduce costs, and increase the volume of content they produce.\n",
      "2. **Image and video generation**: Generative AI algorithms can generate stunning visuals, such as product images, marketing materials, or even real movie magic sequences. Companies can use this technology to create more captivating advertisements, packaging designs, or social media graphics.\n",
      "3. **Dialogue and conversation AI**: Generative AI-powered chatbots can mimic human-like conversations, enabling businesses to create personal assistants, support systems, or even entire virtual teams for various customer service applications.\n",
      "4. **Design and prototyping**: Generative AI tools can generate multiple design iterations based on a limited input style, saving designers hours of work while maintaining consistency in branding. This could improve the efficiency of companies like Apple and Amazon’s brand development units.\n",
      "5. **Marketing automation**: Generative AI can be applied to automate various marketing processes, such as:\n",
      " * Generating personalized ads and promotional campaigns\n",
      " * Cracking up new email campaign ideas based on users engagement data \n",
      "   * Creating catchy social media dialogues for different types of products (to maximize ROI)\n",
      "6.  **Data augmentation**: Generative AI models can augment existing data with more diversity and complexity, reducing the need to collect vast amounts of additional data or requiring less time to build machine learning model\n",
      "7. **Automating customer service chatbots by generating customized solutions.\n",
      "8. **Building a smart virtual assistance assistant.\n",
      "\n",
      "By leveraging generative AI technologies, businesses can streamline processes, increase efficiency, enhance user experience and reduce costs without compromise on their services quality\n"
     ]
    }
   ],
   "source": [
    "# There's actually an alternative approach that some people might prefer\n",
    "# You can use the OpenAI client python library to call Ollama:\n",
    "\n",
    "from openai import OpenAI\n",
    "ollama_via_openai = OpenAI(base_url='http://localhost:11434/v1', api_key='ollama')\n",
    "\n",
    "response = ollama_via_openai.chat.completions.create(\n",
    "    model=MODEL,\n",
    "    messages=messages\n",
    ")\n",
    "\n",
    "print(response.choices[0].message.content)"
   ]
  },
  {
   "cell_type": "markdown",
   "id": "1622d9bb-5c68-4d4e-9ca4-b492c751f898",
   "metadata": {},
   "source": [
    "# NOW the exercise for you\n",
    "\n",
    "Take the code from day1 and incorporate it here, to build a website summarizer that uses Llama 3.2 running locally instead of OpenAI; use either of the above approaches."
   ]
  },
  {
   "cell_type": "code",
   "execution_count": 8,
   "id": "402d5686-4e76-4110-b65a-b3906c35c0a4",
   "metadata": {},
   "outputs": [],
   "source": [
    "# A class to represent a Webpage\n",
    "# If you're not familiar with Classes, check out the \"Intermediate Python\" notebook\n",
    "\n",
    "from selenium import webdriver\n",
    "from selenium.webdriver.common.by import By\n",
    "from webdriver_manager.chrome import ChromeDriverManager\n",
    "  \n",
    "\n",
    "class Website:\n",
    "\n",
    "    def __init__(self, url):\n",
    "        \"\"\"\n",
    "        Create this Website object from the given url using the BeautifulSoup library\n",
    "        \"\"\"\n",
    "        # using beautifulsoup\n",
    "        \n",
    "        # self.url = url\n",
    "        # response = requests.get(url)\n",
    "        # soup = BeautifulSoup(response.content, 'html.parser')\n",
    "        # self.title = soup.title.string if soup.title else \"No title found\"\n",
    "        # for irrelevant in soup.body([\"script\", \"style\", \"img\", \"input\"]):\n",
    "        #     irrelevant.decompose()\n",
    "        # self.text = soup.body.get_text(separator=\"\\n\", strip=True)\n",
    "        # using webdriver for chrome browser \n",
    "\n",
    "        # using selenium\n",
    "        driver = webdriver.Chrome(service=webdriver.chrome.service.Service(ChromeDriverManager().install()))\n",
    "          \n",
    "        # using target url \n",
    "        driver.get(url) \n",
    "          \n",
    "        # printing the content of entire page \n",
    "        self.title = driver.title\n",
    "        self.text = driver.find_element(By.XPATH, \"/html/body\").text\n",
    "          \n",
    "        # closing the driver \n",
    "        driver.close()"
   ]
  },
  {
   "cell_type": "code",
   "execution_count": 9,
   "id": "afab619b-cfd3-4984-84f7-c03668cdf217",
   "metadata": {},
   "outputs": [
    {
     "name": "stdout",
     "output_type": "stream",
     "text": [
      "Home - Edward Donner\n",
      "Skip to content\n",
      "Home\n",
      "Outsmart\n",
      "About\n",
      "Posts\n",
      "Well, hi there.\n",
      "I’m Ed. I like writing code and experimenting with LLMs, and hopefully you’re here because you do too. I also enjoy DJing (but I’m badly out of practice), amateur electronic music production (very amateur) and losing myself in Hacker News, nodding my head sagely to things I only half understand.\n",
      "I’m the co-founder and CTO of Nebula.io. We’re applying AI to a field where it can make a massive, positive impact: helping people discover their potential and pursue their reason for being. Recruiters use our product today to source, understand, engage and manage talent. I’m previously the founder and CEO of AI startup untapt, acquired in 2021.\n",
      "We work with groundbreaking, proprietary LLMs verticalized for talent, we’ve patented our matching model, and our award-winning platform has happy customers and tons of press coverage. Connect with me for more!\n",
      "November 13, 2024\n",
      "Mastering AI and LLM Engineering – Resources\n",
      "October 16, 2024\n",
      "From Software Engineer to AI Data Scientist – resources\n",
      "August 6, 2024\n",
      "Outsmart LLM Arena – a battle of diplomacy and deviousness\n",
      "June 26, 2024\n",
      "Choosing the Right LLM: Toolkit and Resources\n",
      "Navigation\n",
      "Home\n",
      "Outsmart\n",
      "About\n",
      "Posts\n",
      "Get in touch\n",
      "ed [at] edwarddonner [dot] com\n",
      "www.edwarddonner.com\n",
      "Follow me\n",
      "LinkedIn\n",
      "Twitter\n",
      "Facebook\n",
      "Subscribe to newsletter\n",
      "Type your email…\n",
      "Subscribe\n"
     ]
    }
   ],
   "source": [
    "# Let's try one out. Change the website and add print statements to follow along.\n",
    "\n",
    "ed = Website(\"https://edwarddonner.com\")\n",
    "print(ed.title)\n",
    "print(ed.text)"
   ]
  },
  {
   "cell_type": "code",
   "execution_count": 12,
   "id": "b7c39d04-e8b8-474d-9a97-9a2d95f1c2a9",
   "metadata": {},
   "outputs": [],
   "source": [
    "# Define our system prompt - you can experiment with this later, changing the last sentence to 'Respond in markdown in Spanish.\"\n",
    "\n",
    "system_prompt = \"You are an assistant that analyzes the contents of a website \\\n",
    "and provides a short summary, ignoring text that might be navigation related. \\\n",
    "Respond in markdown.\""
   ]
  },
  {
   "cell_type": "code",
   "execution_count": 13,
   "id": "44a5e043-1f90-47ae-b351-5f0a8e80ad6f",
   "metadata": {},
   "outputs": [],
   "source": [
    "# A function that writes a User Prompt that asks for summaries of websites:\n",
    "\n",
    "def user_prompt_for(website):\n",
    "    user_prompt = f\"You are looking at a website titled {website.title}\"\n",
    "    user_prompt += \"\\nThe contents of this website is as follows; \\\n",
    "please provide a short summary of this website in markdown. \\\n",
    "If it includes news or announcements, then summarize these too.\\n\\n\"\n",
    "    user_prompt += website.text\n",
    "    return user_prompt"
   ]
  },
  {
   "cell_type": "code",
   "execution_count": 14,
   "id": "250eb00d-0f4f-4a6b-babc-bb3d24b7347b",
   "metadata": {},
   "outputs": [
    {
     "name": "stdout",
     "output_type": "stream",
     "text": [
      "You are looking at a website titled Home - Edward Donner\n",
      "The contents of this website is as follows; please provide a short summary of this website in markdown. If it includes news or announcements, then summarize these too.\n",
      "\n",
      "Skip to content\n",
      "Home\n",
      "Outsmart\n",
      "About\n",
      "Posts\n",
      "Well, hi there.\n",
      "I’m Ed. I like writing code and experimenting with LLMs, and hopefully you’re here because you do too. I also enjoy DJing (but I’m badly out of practice), amateur electronic music production (very amateur) and losing myself in Hacker News, nodding my head sagely to things I only half understand.\n",
      "I’m the co-founder and CTO of Nebula.io. We’re applying AI to a field where it can make a massive, positive impact: helping people discover their potential and pursue their reason for being. Recruiters use our product today to source, understand, engage and manage talent. I’m previously the founder and CEO of AI startup untapt, acquired in 2021.\n",
      "We work with groundbreaking, proprietary LLMs verticalized for talent, we’ve patented our matching model, and our award-winning platform has happy customers and tons of press coverage. Connect with me for more!\n",
      "November 13, 2024\n",
      "Mastering AI and LLM Engineering – Resources\n",
      "October 16, 2024\n",
      "From Software Engineer to AI Data Scientist – resources\n",
      "August 6, 2024\n",
      "Outsmart LLM Arena – a battle of diplomacy and deviousness\n",
      "June 26, 2024\n",
      "Choosing the Right LLM: Toolkit and Resources\n",
      "Navigation\n",
      "Home\n",
      "Outsmart\n",
      "About\n",
      "Posts\n",
      "Get in touch\n",
      "ed [at] edwarddonner [dot] com\n",
      "www.edwarddonner.com\n",
      "Follow me\n",
      "LinkedIn\n",
      "Twitter\n",
      "Facebook\n",
      "Subscribe to newsletter\n",
      "Type your email…\n",
      "Subscribe\n"
     ]
    }
   ],
   "source": [
    "print(user_prompt_for(ed))"
   ]
  },
  {
   "cell_type": "code",
   "execution_count": 15,
   "id": "19fd8b75-3a10-4e91-a07c-ea98f6404248",
   "metadata": {},
   "outputs": [],
   "source": [
    "# See how this function creates exactly the format above\n",
    "\n",
    "def messages_for(website):\n",
    "    return [\n",
    "        {\"role\": \"system\", \"content\": system_prompt},\n",
    "        {\"role\": \"user\", \"content\": user_prompt_for(website)}\n",
    "    ]"
   ]
  },
  {
   "cell_type": "code",
   "execution_count": 16,
   "id": "b3061789-c976-44a7-af4d-a45e09dea095",
   "metadata": {},
   "outputs": [],
   "source": [
    "# And now: call the OpenAI API. You will get very familiar with this!\n",
    "\n",
    "def summarize(url):\n",
    "    website = Website(url)\n",
    "    ollama_via_openai = OpenAI(base_url='http://localhost:11434/v1', api_key='ollama')\n",
    "\n",
    "    response = ollama_via_openai.chat.completions.create(\n",
    "        model=MODEL,\n",
    "        messages=messages_for(website)\n",
    "    )\n",
    "\n",
    "    return response.choices[0].message.content"
   ]
  },
  {
   "cell_type": "code",
   "execution_count": 18,
   "id": "40b6f5ee-7722-4954-b2d9-ef0a9a101af0",
   "metadata": {},
   "outputs": [],
   "source": [
    "# A function to display this nicely in the Jupyter output, using markdown\n",
    "\n",
    "def display_summary(url):\n",
    "    summary = summarize(url)\n",
    "    display(Markdown(summary))"
   ]
  },
  {
   "cell_type": "code",
   "execution_count": 19,
   "id": "e2fab9df-5a05-4c52-9995-f699632caf92",
   "metadata": {},
   "outputs": [
    {
     "data": {
      "text/markdown": [
       "**Summary of Edward Donner's Website**\n",
       "=====================================\n",
       "\n",
       "* **About Me**: Edward Donner is a writer, DJ, and amateur music producer who enjoys experimenting with Artificial Intelligence (AI) and Large Language Models (LLMs). He is the co-founder and CTO of Nebula.io, an AI company that applies AI to help people discover their potential.\n",
       "* **Company Overview**: Nebula.io applies AI to talent discovery and management. The company has patented a matching model and has received press coverage for its award-winning platform.\n",
       "\n",
       "**News and Announcements**\n",
       "-------------------------\n",
       "\n",
       "### Recent Articles\n",
       "\n",
       "* **Mastering AI and LLM Engineering – Resources (November 13, 2024)**: A curated list of resources for improving AI and LLM engineering skills.\n",
       "* **From Software Engineer to AI Data Scientist – resources (October 16, 2024)**: A collection of resources for transitioning from a software engineer role to an AI data scientist role.\n",
       "* **Outsmart LLM Arena – a battle of diplomacy and deviousness (June 26, 2024)**: An introduction to the Outsmart LLM Arena, where participants engage in diplomatic battles using LLMs.\n",
       "* **Choosing the Right LLM: Toolkit and Resources (August 6, 2024)**: A toolkit and resources for choosing the right LLM for specific use cases."
      ],
      "text/plain": [
       "<IPython.core.display.Markdown object>"
      ]
     },
     "metadata": {},
     "output_type": "display_data"
    }
   ],
   "source": [
    "display_summary(\"https://edwarddonner.com\")"
   ]
  },
  {
   "cell_type": "code",
   "execution_count": null,
   "id": "89a2a940-61c4-49f2-a376-e136d19a0ee8",
   "metadata": {},
   "outputs": [],
   "source": []
  }
 ],
 "metadata": {
  "kernelspec": {
   "display_name": "Python 3 (ipykernel)",
   "language": "python",
   "name": "python3"
  },
  "language_info": {
   "codemirror_mode": {
    "name": "ipython",
    "version": 3
   },
   "file_extension": ".py",
   "mimetype": "text/x-python",
   "name": "python",
   "nbconvert_exporter": "python",
   "pygments_lexer": "ipython3",
   "version": "3.11.4"
  }
 },
 "nbformat": 4,
 "nbformat_minor": 5
}
